{
 "cells": [
  {
   "cell_type": "code",
   "execution_count": 7,
   "metadata": {
    "collapsed": false,
    "scrolled": true
   },
   "outputs": [
    {
     "data": {
      "text/plain": [
       "<module 'utils.churn_analysis' from 'C:\\\\SourceCode\\\\NYUDataScience1001-edTech\\\\utils\\\\churn_analysis.py'>"
      ]
     },
     "execution_count": 7,
     "metadata": {},
     "output_type": "execute_result"
    }
   ],
   "source": [
    "from utils import *\n",
    "from utils import churn_analysis as churn\n",
    "from IPython.display import display, HTML\n",
    "import importlib\n",
    "import numpy as np\n",
    "from utils import eval_plots as val\n",
    "import os\n",
    "\n",
    "importlib.reload(churn)\n",
    "\n",
    "data = pd.read_csv('CleanTable-mb.csv', header=0, sep=',')\n",
    "data_descr = churn.getDfSummary(data)\n",
    "HTML(data_descr.to_html())"
   ]
  },
  {
   "cell_type": "code",
   "execution_count": null,
   "metadata": {
    "collapsed": true
   },
   "outputs": [],
   "source": []
  }
 ],
 "metadata": {
  "anaconda-cloud": {},
  "kernelspec": {
   "display_name": "Python [Root]",
   "language": "python",
   "name": "Python [Root]"
  },
  "language_info": {
   "codemirror_mode": {
    "name": "ipython",
    "version": 3
   },
   "file_extension": ".py",
   "mimetype": "text/x-python",
   "name": "python",
   "nbconvert_exporter": "python",
   "pygments_lexer": "ipython3",
   "version": "3.5.2"
  }
 },
 "nbformat": 4,
 "nbformat_minor": 0
}
