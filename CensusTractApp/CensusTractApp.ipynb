{
 "cells": [
  {
   "cell_type": "code",
   "execution_count": 61,
   "metadata": {
    "collapsed": false
   },
   "outputs": [],
   "source": [
    "import requests\n",
    "import json\n",
    "import pandas as pd\n",
    "import os\n",
    "\n",
    "\n",
    "cwd = os.getcwd()\n",
    "datadir = 'Data/'\n",
    "\n",
    "data = pd.read_csv(datadir + 'Child_Care_Regulated_Programs_Map.csv', header=0, sep=',')\n",
    "data.loc[:,'Tract'] = pd.Series()\n",
    "\n",
    "\n",
    "for index,row in data.iterrows():\n",
    "    lat = row['Latitude']\n",
    "    lng = row['Longitude']\n",
    "    url = 'https://geocoding.geo.census.gov/geocoder/geographies/coordinates?y=' + str(lat) +  '&x=' + str(lng) + '&benchmark=Public_AR_Census2010&vintage=Census2010_Census2010&layers=14&format=json'\n",
    "\n",
    "    response = json.loads(requests.get(url).text)\n",
    "\n",
    "    df = pd.DataFrame(response['result']['geographies']['Census Blocks'])\n",
    "    data.ix[index,'Tract'] = str(df.iloc[0]['TRACT'])\n",
    "\n",
    "data.to_csv('Data/output.csv',sep=',')"
   ]
  },
  {
   "cell_type": "code",
   "execution_count": null,
   "metadata": {
    "collapsed": true
   },
   "outputs": [],
   "source": []
  }
 ],
 "metadata": {
  "anaconda-cloud": {},
  "kernelspec": {
   "display_name": "Python [Root]",
   "language": "python",
   "name": "Python [Root]"
  },
  "language_info": {
   "codemirror_mode": {
    "name": "ipython",
    "version": 3
   },
   "file_extension": ".py",
   "mimetype": "text/x-python",
   "name": "python",
   "nbconvert_exporter": "python",
   "pygments_lexer": "ipython3",
   "version": "3.5.2"
  }
 },
 "nbformat": 4,
 "nbformat_minor": 0
}
