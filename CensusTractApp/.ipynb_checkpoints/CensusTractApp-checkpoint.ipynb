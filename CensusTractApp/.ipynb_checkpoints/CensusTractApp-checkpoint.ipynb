{
 "cells": [
  {
   "cell_type": "code",
   "execution_count": null,
   "metadata": {
    "collapsed": false
   },
   "outputs": [],
   "source": [
    "import requests\n",
    "import json\n",
    "import pandas as pd\n",
    "import os\n",
    "\n",
    "'''\n",
    "Usage: Input File must be in /root/CensusTractApp/Data folder\n",
    "File Must have the following columns:  Longitude, Latitude, Tract.\n",
    "    Note: Most files will not have a Tract column.  Add this, leave data blank.  This script will fill it in.\n",
    "\n",
    "Output file will be dropped in the /root/CensusTractApp/Data/clean-[Filename]\n",
    "\n",
    "Make time for this... 550,000 rows on my Macbook have been running for over 10 hours.\n",
    "'''\n",
    "\n",
    "cwd = os.getcwd()\n",
    "datadir = 'Data/'\n",
    "filename = '2005.csv'\n",
    "\n",
    "data = pd.read_csv(datadir + filename, header=0, sep=',')\n",
    "cnt = 0\n",
    "\n",
    "for index,row in data.iterrows():\n",
    "    lat = row['Latitude']\n",
    "    lng = row['Longitude']\n",
    "    if (str(data.iloc[index]['Tract']) == 'nan' and str(lat) != 'nan'):\n",
    "        # Only make API call if Tract is Null.\n",
    "        url = 'https://geocoding.geo.census.gov/geocoder/geographies/coordinates?y=' + str(lat) +  '&x=' + str(lng) + '&benchmark=Public_AR_Census2010&vintage=Census2010_Census2010&layers=14&format=json'\n",
    "        try:\n",
    "            response = json.loads(requests.get(url).text)\n",
    "            df = pd.DataFrame(response['result']['geographies']['Census Blocks'])\n",
    "            data.ix[index,'Tract'] = str(df.iloc[0]['TRACT'])\n",
    "            cnt+=1\n",
    "        except:\n",
    "            print(str(lat) + ' ' + str(lng))\n",
    "            print(url)\n",
    "        \n",
    "        if (cnt == 1000):\n",
    "            # write to file every 1000 rows because otherwise this thing crashes\n",
    "            data.to_csv('Data/clean-' + filename,sep=',')\n",
    "            cnt=0\n",
    "\n",
    "data.to_csv('Data/clean-' + filename,sep=',')"
   ]
  },
  {
   "cell_type": "code",
   "execution_count": null,
   "metadata": {
    "collapsed": true
   },
   "outputs": [],
   "source": []
  }
 ],
 "metadata": {
  "anaconda-cloud": {},
  "kernelspec": {
   "display_name": "Python [Root]",
   "language": "python",
   "name": "Python [Root]"
  },
  "language_info": {
   "codemirror_mode": {
    "name": "ipython",
    "version": 3
   },
   "file_extension": ".py",
   "mimetype": "text/x-python",
   "name": "python",
   "nbconvert_exporter": "python",
   "pygments_lexer": "ipython3",
   "version": "3.5.2"
  }
 },
 "nbformat": 4,
 "nbformat_minor": 0
}
