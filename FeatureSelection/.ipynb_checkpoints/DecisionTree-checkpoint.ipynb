{
 "cells": [
  {
   "cell_type": "code",
   "execution_count": 39,
   "metadata": {
    "collapsed": false
   },
   "outputs": [
    {
     "data": {
      "text/plain": [
       "<module 'course_utils' from 'C:\\\\SourceCode\\\\NYUDataScience1001-edTech\\\\FeatureSelection\\\\course_utils.py'>"
      ]
     },
     "execution_count": 39,
     "metadata": {},
     "output_type": "execute_result"
    }
   ],
   "source": [
    "\n",
    "import pandas as pd\n",
    "import numpy as np\n",
    "import scipy as sp\n",
    "import matplotlib.pyplot as plt\n",
    "import random as r\n",
    "\n",
    "#These all need to be installed to both run and visualize a tree\n",
    "from sklearn.tree import DecisionTreeClassifier\n",
    "from sklearn.tree import export_graphviz\n",
    "from IPython.display import Image\n",
    "import pydotplus\n",
    "\n",
    "from io import StringIO\n",
    "%matplotlib inline\n",
    "\n",
    "from sklearn.metrics import confusion_matrix, roc_auc_score\n",
    "import sys\n",
    "\n",
    "#If it doesn't work, hard code the datadir\n",
    "#datadir = ${path}\n",
    "import imp\n",
    "import course_utils as bd\n",
    "imp.reload(bd)"
   ]
  },
  {
   "cell_type": "code",
   "execution_count": 43,
   "metadata": {
    "collapsed": false
   },
   "outputs": [],
   "source": [
    "\n",
    "\n",
    "# Load full dataset from CSV\n",
    "# set Index_col = none so that our index is auto-increment\n",
    "full_df = pd.DataFrame.from_csv('data/RawData.csv',index_col=None)\n",
    "\n",
    "# Code inspired by http://stackoverflow.com/questions/12190874/pandas-sampling-a-dataframe\n",
    "# Randomly sample 20% of the indicies in the list of indexes\n",
    "rows = r.sample(list(full_df.index),int(len(full_df)*.2))\n",
    "\n",
    "# testing data = only rows where index is in the 80% random sample\n",
    "test_df = full_df.ix[rows]\n",
    "\n",
    "# training data = drop the rows that were used in the test data\n",
    "train_df = full_df.drop(rows)\n",
    "\n"
   ]
  },
  {
   "cell_type": "code",
   "execution_count": 48,
   "metadata": {
    "collapsed": false
   },
   "outputs": [],
   "source": [
    "lab = 'TargetVariable'\n",
    "\n",
    "min_samples_split_values = [1,2,3,4,5,6,7,8,9,10]\n",
    "min_samples_leaf_values = [1,3,10,25,50,75,100,175,250,500]\n",
    "\n",
    "clf = clf.fit(train_df.drop(lab,1), train_df[lab])"
   ]
  },
  {
   "cell_type": "code",
   "execution_count": 49,
   "metadata": {
    "collapsed": false
   },
   "outputs": [
    {
     "data": {
      "text/plain": [
       "<matplotlib.text.Text at 0xa1070c9a90>"
      ]
     },
     "execution_count": 49,
     "metadata": {},
     "output_type": "execute_result"
    },
    {
     "data": {
      "image/png": "[encoded data removed]",
      "text/plain": [
       "<matplotlib.figure.Figure at 0xa107176978>"
      ]
     },
     "metadata": {},
     "output_type": "display_data"
    }
   ],
   "source": [
    "from sklearn.metrics import confusion_matrix, roc_auc_score\n",
    "import matplotlib.pyplot as plt\n",
    "%matplotlib inline\n",
    "\n",
    "\n",
    "#Initialize dictionary of results\n",
    "res = dict()\n",
    "\n",
    "for s in min_samples_leaf_values:\n",
    "    res[s] = list()\n",
    "    \n",
    "for x in min_samples_leaf_values:\n",
    "    for y in min_samples_split_values:\n",
    "        clf = DecisionTreeClassifier(criterion='entropy', min_samples_leaf = x, min_samples_split = y)\n",
    "        clf = clf.fit(train_df.drop(lab,1), train_df[lab])\n",
    "        res[x].append(clf.score(test_df.drop(lab,1), test_df[lab]))\n",
    "\n",
    "# My old eyes need to see this plot a little bigger\n",
    "fig = plt.figure()     \n",
    "fig.set_figheight(10)\n",
    "fig.set_figwidth(10)\n",
    "ax=fig.add_subplot(111)\n",
    "\n",
    "plt.plot(min_samples_split_values,res[min_samples_leaf_values[0]], 'b-', label = 'Leaf={}'.format(min_samples_leaf_values[0]))\n",
    "plt.plot(min_samples_split_values,res[min_samples_leaf_values[1]], 'r-', label = 'Leaf={}'.format(min_samples_leaf_values[1]))        \n",
    "plt.plot(min_samples_split_values,res[min_samples_leaf_values[2]], 'g-', label = 'Leaf={}'.format(min_samples_leaf_values[2]))        \n",
    "plt.plot(min_samples_split_values,res[min_samples_leaf_values[3]], '#660066', label = 'Leaf={}'.format(min_samples_leaf_values[3]))        \n",
    "plt.plot(min_samples_split_values,res[min_samples_leaf_values[4]], 'y-', label = 'Leaf={}'.format(min_samples_leaf_values[4]))        \n",
    "plt.plot(min_samples_split_values,res[min_samples_leaf_values[5]], 'm-', label = 'Leaf={}'.format(min_samples_leaf_values[5]))        \n",
    "plt.plot(min_samples_split_values,res[min_samples_leaf_values[6]], 'c-', label = 'Leaf={}'.format(min_samples_leaf_values[6]))        \n",
    "plt.plot(min_samples_split_values,res[min_samples_leaf_values[7]], 'k-', label = 'Leaf={}'.format(min_samples_leaf_values[7]))        \n",
    "plt.plot(min_samples_split_values,res[min_samples_leaf_values[8]], '#ff3300', label = 'Leaf={}'.format(min_samples_leaf_values[8]))        \n",
    "plt.plot(min_samples_split_values,res[min_samples_leaf_values[9]], '#ff3399', label = 'Leaf={}'.format(min_samples_leaf_values[9]))        \n",
    "\n",
    "plt.legend(loc = 4)  \n",
    "ax.set_xlabel('Min Split Size')\n",
    "ax.set_label('Accuracy')\n",
    "plt.title('Accuracy by Hyperparameters')"
   ]
  },
  {
   "cell_type": "code",
   "execution_count": null,
   "metadata": {
    "collapsed": true
   },
   "outputs": [],
   "source": []
  }
 ],
 "metadata": {
  "anaconda-cloud": {},
  "kernelspec": {
   "display_name": "Python [Root]",
   "language": "python",
   "name": "Python [Root]"
  },
  "language_info": {
   "codemirror_mode": {
    "name": "ipython",
    "version": 3
   },
   "file_extension": ".py",
   "mimetype": "text/x-python",
   "name": "python",
   "nbconvert_exporter": "python",
   "pygments_lexer": "ipython3",
   "version": "3.5.2"
  }
 },
 "nbformat": 4,
 "nbformat_minor": 0
}
